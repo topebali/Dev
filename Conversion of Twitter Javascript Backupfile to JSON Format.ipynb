{
 "cells": [
  {
   "cell_type": "markdown",
   "metadata": {},
   "source": [
    "# Algorithm\n",
    "1. open zipfile and extract content of file \n",
    "2.convert content \n",
    "3 zip it back"
   ]
  },
  {
   "cell_type": "code",
   "execution_count": 158,
   "metadata": {},
   "outputs": [],
   "source": [
    "import zipfile\n",
    "import json\n",
    "import os\n",
    "\n",
    "path = r\"C:\\Users\\Tope Bali\\Desktop\\tw\\testing\\tet.zip\"\n",
    "\n",
    "z = os.path.split(path)[1]\n",
    "z = z.split(\".\")[0]\n",
    "#print(z)\n",
    "\n",
    "'''if not os.path.exists(z):\n",
    "    os.makedirs(z)'''\n",
    "\n",
    "temppath = r\"C:\\Users\\Tope Bali\\Desktop\\tw\\testing\"\n",
    "\n",
    "\n",
    "\n",
    "# opening the zip file in READ mode \n",
    "with zipfile.ZipFile(path, 'r') as zipf:\n",
    "   # Get a list of all archived file names from the zip\n",
    "   listOfFileNames = zipf.namelist()\n",
    "   # Iterate over the file names\n",
    "   for fileName in listOfFileNames:\n",
    "       # Check filename endswith js\n",
    "       if fileName.endswith('.js'):\n",
    "           # Extract a single file from zip\n",
    "           #zipf.extractall(temppath+\"\\\\\" + z)\n",
    "            zipf.extractall(temppath)\n",
    "            \n",
    "os.remove(path)"
   ]
  },
  {
   "cell_type": "code",
   "execution_count": 123,
   "metadata": {},
   "outputs": [],
   "source": [
    "import json\n",
    "import os\n",
    "def js2json1(x):\n",
    "    \n",
    "    xx = str(temppath+\"\\\\\" + z)\n",
    "    print(xx)\n",
    "    for filename in os.listdir(xx):\n",
    "        #print(filename)\n",
    "\n",
    "        if filename.endswith('.js'):\n",
    "            data = '-'\n",
    "\n",
    "            try:\n",
    "                with open(filename, 'r', encoding = \"utf-8\") as f:\n",
    "                    content = f.read()\n",
    "                    #rint(content)\n",
    "\n",
    "            except Exception as error:\n",
    "                print(error)\n",
    "\n",
    "            jso_file = filename.split('.')\n",
    "            jso_file = jso_file[0]\n",
    "            #print(jso_file)\n",
    "\n",
    "            if data in jso_file:\n",
    "                jso_file = jso_file.replace('-','_')\n",
    "                #print (jso_file)\n",
    "\n",
    "            else:\n",
    "                pass\n",
    "\n",
    "            stripname = str('window.YTD.'+jso_file+'.part0 = ')\n",
    "            json_string = content.strip(stripname)\n",
    "            json_json = json.loads(json_string)\n",
    "            #print(json_json)\n",
    "\n",
    "            json_file =str(jso_file+'.json')\n",
    "            print(json_file)\n",
    "            with open(json_file, \"w\") as f:\n",
    "                json.dump(json_json, f, indent = 4)\n",
    "                print(\"done\")"
   ]
  },
  {
   "cell_type": "code",
   "execution_count": 121,
   "metadata": {},
   "outputs": [
    {
     "name": "stdout",
     "output_type": "stream",
     "text": [
      "C:\\Users\\Tope Bali\\Desktop\\tw\\testing\\tet\n",
      "account.json\n",
      "done\n",
      "ad_engagements.json\n",
      "done\n"
     ]
    }
   ],
   "source": [
    "#xx = str(temppath+\"\\\\\" + z)\n",
    "#print(xx)\n",
    "js2json1(xx)"
   ]
  },
  {
   "cell_type": "code",
   "execution_count": 45,
   "metadata": {},
   "outputs": [
    {
     "name": "stdout",
     "output_type": "stream",
     "text": [
      "tet\n"
     ]
    },
    {
     "data": {
      "text/plain": [
       "\"import os\\nif not os.path.exists('my_folder'):\\n    os.makedirs('my_folder')\""
      ]
     },
     "execution_count": 45,
     "metadata": {},
     "output_type": "execute_result"
    }
   ],
   "source": [
    "import os, zipfile\n",
    "\n",
    "filename = r\"C:\\Users\\Tope Bali\\Desktop\\tw\\testing\\tet.zip\"\n",
    "z = os.path.split(filename)[1]\n",
    "z = z.split(\".\")[0]\n",
    "print(z)\n",
    "\n",
    "'''import os\n",
    "if not os.path.exists('my_folder'):\n",
    "    os.makedirs('my_folder')'''"
   ]
  },
  {
   "cell_type": "code",
   "execution_count": 159,
   "metadata": {},
   "outputs": [
    {
     "name": "stdout",
     "output_type": "stream",
     "text": [
      "C:\\Users\\Tope Bali\\Desktop\\tw\\testing\\tet\n"
     ]
    }
   ],
   "source": [
    "import glob\n",
    "xx = str(temppath+\"\\\\\" + z)\n",
    "print(xx)\n",
    "path = xx\n",
    "for filename in glob.glob(path + \"/*.js\"):\n",
    "    jsfile = os.path.splitext(filename)[0]\n",
    "    jsonfile = jsfile + '.json'\n",
    "\n",
    "    data = '-'\n",
    "\n",
    "    try:\n",
    "        with open(jsfile+'.js', 'r', encoding = \"utf-8\") as f:\n",
    "            content = f.read()\n",
    "\n",
    "    except Exception as error:\n",
    "        print (error)\n",
    "\n",
    "\n",
    "    if data in jsonfile:\n",
    "        jsonfile = jsonfile.replace('-', '_')\n",
    "\n",
    "    else:\n",
    "        pass\n",
    "\n",
    "\n",
    "    #print(\"File is been read\")\n",
    "\n",
    "    stringname = str('window.YTD.'+jsonfile+'.part0 = ')\n",
    "    jsonstring = content.strip(stringname)\n",
    "    new_jsonfile = json.loads(jsonstring)\n",
    "\n",
    "    #new_json = str(jsonfile+'.json')\n",
    "        \n",
    "\n",
    "    with open(jsonfile, 'w', encoding = 'utf-8') as f:\n",
    "        json.dump( new_jsonfile, f, indent = 4)"
   ]
  },
  {
   "cell_type": "code",
   "execution_count": 160,
   "metadata": {},
   "outputs": [
    {
     "name": "stdout",
     "output_type": "stream",
     "text": [
      "C:\\Users\\Tope Bali\\Desktop\\tw\\testing\\tet\\account.js\n",
      "done\n",
      "C:\\Users\\Tope Bali\\Desktop\\tw\\testing\\tet\\ad-engagements.js\n",
      "done\n"
     ]
    }
   ],
   "source": [
    "#DELETTTIN UNNECESSARY FILES\n",
    "import os\n",
    "\n",
    "for filename in glob.glob(path + \"/*.js\"):\n",
    "    print(filename)\n",
    "    os.remove(filename)\n",
    "    print(\"done\")\n",
    "    \n",
    "    \n",
    "        \n",
    "    "
   ]
  },
  {
   "cell_type": "code",
   "execution_count": 166,
   "metadata": {},
   "outputs": [
    {
     "name": "stdout",
     "output_type": "stream",
     "text": [
      "C:\\Users\\Tope Bali\\Desktop\\tw\\testing\\tet\n",
      "C:\\Users\\Tope Bali\\Desktop\\tw\\testing\\tet\n"
     ]
    }
   ],
   "source": [
    "import shutil\n",
    "\n",
    "zip_name = path\n",
    "#print(zip_name)\n",
    "directory_name = path\n",
    "#print(directory_name)\n",
    "\n",
    "# Create 'path\\to\\zip_file.zip'\n",
    "shutil.make_archive(zip_name, 'zip', directory_name)\n",
    "shutil.rmtree(zip_name)"
   ]
  },
  {
   "cell_type": "code",
   "execution_count": null,
   "metadata": {},
   "outputs": [],
   "source": []
  }
 ],
 "metadata": {
  "kernelspec": {
   "display_name": "Python 3",
   "language": "python",
   "name": "python3"
  },
  "language_info": {
   "codemirror_mode": {
    "name": "ipython",
    "version": 3
   },
   "file_extension": ".py",
   "mimetype": "text/x-python",
   "name": "python",
   "nbconvert_exporter": "python",
   "pygments_lexer": "ipython3",
   "version": "3.7.1"
  }
 },
 "nbformat": 4,
 "nbformat_minor": 2
}
